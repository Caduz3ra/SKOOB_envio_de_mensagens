{
 "cells": [
  {
   "cell_type": "code",
   "execution_count": 1,
   "id": "2cd89e0b",
   "metadata": {
    "scrolled": true
   },
   "outputs": [
    {
     "name": "stdout",
     "output_type": "stream",
     "text": [
      "········\n"
     ]
    }
   ],
   "source": [
    "import openpyxl\n",
    "import requests\n",
    "import getpass\n",
    "from selenium import webdriver\n",
    "from selenium.webdriver.common.keys import Keys\n",
    "from selenium.webdriver.common.by import By\n",
    "import time\n",
    "import urllib\n",
    "import pandas as pd\n",
    "\n",
    "# abre a planilha com links\n",
    "wb = openpyxl.load_workbook('links.xlsx')\n",
    "sheet = wb.active\n",
    "\n",
    "# inicializa o navegador\n",
    "driver = webdriver.Chrome()\n",
    "\n",
    "# acessa o site do Skoob\n",
    "driver.get(\"https://www.skoob.com.br/login/facebook/\")\n",
    "\n",
    "# digita as informações de login do Facebook\n",
    "username_field = driver.find_element(By.ID, \"email\")\n",
    "username_field.send_keys(\"@hotmail.com\")\n",
    "\n",
    "password_field = driver.find_element(By.ID, \"pass\")\n",
    "password_field.send_keys(getpass.getpass())\n",
    "\n",
    "# envia o formulário de login\n",
    "password_field.send_keys(Keys.RETURN)\n",
    "\n",
    "time.sleep(50)\n",
    "\n",
    "# percorre cada linha na coluna A da planilha\n",
    "for row in range(2, sheet.max_row + 1):\n",
    "    link = sheet.cell(row, 1).value\n",
    "    driver.get(link)\n",
    "\n",
    "    # encontra o botão com as classes especificadas e envia a mensagem\n",
    "    try:\n",
    "        button = driver.find_element(By.XPATH, '//*[@id=\"b-usermenu-icons-top\"]/div/div[3]/a').click()\n",
    "        time.sleep(3)\n",
    "    except:\n",
    "        continue\n",
    "    \n",
    "    try:\n",
    "        button = driver.find_element(By.XPATH, '//*[@id=\"message-form\"]/textarea').send_keys('Olá! analisei suas leituras e acredito que você possa gostar do meu livro. Ele se chama \"Espinhos - Poemas e Ensaios\" e está disponível por apenas 5,99 na Amazon. Também encontra-se de graça para Kindle Unlimited. Serei muito grato se puder conferir! https://www.amazon.com.br/dp/B0B6YYHH44/')\n",
    "        time.sleep(1)\n",
    "        button = driver.find_element(By.ID, 'bt-enviar-recado').click()\n",
    "        time.sleep(5)\n",
    "    except:\n",
    "        # vai para próxima linha\n",
    "        continue\n"
   ]
  },
  {
   "cell_type": "code",
   "execution_count": null,
   "id": "01e69575",
   "metadata": {},
   "outputs": [],
   "source": []
  },
  {
   "cell_type": "code",
   "execution_count": null,
   "id": "5a413343",
   "metadata": {},
   "outputs": [],
   "source": []
  }
 ],
 "metadata": {
  "kernelspec": {
   "display_name": "Python 3 (ipykernel)",
   "language": "python",
   "name": "python3"
  },
  "language_info": {
   "codemirror_mode": {
    "name": "ipython",
    "version": 3
   },
   "file_extension": ".py",
   "mimetype": "text/x-python",
   "name": "python",
   "nbconvert_exporter": "python",
   "pygments_lexer": "ipython3",
   "version": "3.9.13"
  }
 },
 "nbformat": 4,
 "nbformat_minor": 5
}
